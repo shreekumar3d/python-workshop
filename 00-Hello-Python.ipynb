{
 "metadata": {
  "name": "00-Hello-Python"
 }, 
 "nbformat": 2, 
 "worksheets": [
  {
   "cells": [
    {
     "cell_type": "markdown", 
     "source": [
      "Python is an extremely simple to use, interpreted programming language. How simple ?", 
      "", 
      "Well, the classic \"hello world\" is as simple as this..."
     ]
    }, 
    {
     "cell_type": "code", 
     "collapsed": false, 
     "input": [
      "print \"Hello, Python!\""
     ], 
     "language": "python", 
     "outputs": [
      {
       "output_type": "stream", 
       "stream": "stdout", 
       "text": [
        "Hello, Python!"
       ]
      }
     ], 
     "prompt_number": 1
    }, 
    {
     "cell_type": "markdown", 
     "source": [
      "How about adding two numbers ?"
     ]
    }, 
    {
     "cell_type": "code", 
     "collapsed": false, 
     "input": [
      "print 2 + 3"
     ], 
     "language": "python", 
     "outputs": [
      {
       "output_type": "stream", 
       "stream": "stdout", 
       "text": [
        "5"
       ]
      }
     ], 
     "prompt_number": 2
    }, 
    {
     "cell_type": "markdown", 
     "source": [
      "Note the lack of declarations. No main function either. Python is a high-productivity language that ", 
      "minimizes crust.  Python programs are easy to read, and smaller than equivalent code in many languages.", 
      "", 
      "Python has good support for introspection - i.e. you can find out more information about objects by querying them.  Most of Python is documented using this feature - allowing help to be easily accessed."
     ]
    }, 
    {
     "cell_type": "markdown", 
     "source": [
      "Many of python's constructs look like C. "
     ]
    }
   ]
  }
 ]
}