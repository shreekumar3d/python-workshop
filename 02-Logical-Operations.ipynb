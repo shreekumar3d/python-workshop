{
 "metadata": {
  "name": "02-Logical-Operations"
 }, 
 "nbformat": 2, 
 "worksheets": [
  {
   "cells": [
    {
     "cell_type": "markdown", 
     "source": [
      "Python has a boolean datatype, with two possible value \"True\" and \"False\".", 
      "", 
      "The logical operators \"and\", \"or\" and \"not\" are supported."
     ]
    }
   ]
  }
 ]
}