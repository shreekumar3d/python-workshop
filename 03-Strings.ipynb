{
 "metadata": {
  "name": "03-Strings"
 }, 
 "nbformat": 2, 
 "worksheets": [
  {
   "cells": [
    {
     "cell_type": "markdown", 
     "source": [
      "Strings are very easy to use in python.", 
      "", 
      "There are three ways to write strings:"
     ]
    }, 
    {
     "cell_type": "code", 
     "collapsed": false, 
     "input": [
      "x = \"Hello, Python!\" # Enclosed in double quotes", 
      "print x"
     ], 
     "language": "python", 
     "outputs": [
      {
       "output_type": "stream", 
       "stream": "stdout", 
       "text": [
        "Hello, Python!"
       ]
      }
     ], 
     "prompt_number": 3
    }, 
    {
     "cell_type": "code", 
     "collapsed": false, 
     "input": [
      "y = 'Hello, Python!' # Single quotes", 
      "print y"
     ], 
     "language": "python", 
     "outputs": [
      {
       "output_type": "stream", 
       "stream": "stdout", 
       "text": [
        "Hello, Python!"
       ]
      }
     ], 
     "prompt_number": 4
    }, 
    {
     "cell_type": "code", 
     "collapsed": false, 
     "input": [
      "z = \"\"\"Hello, Python!\"\"\" # Triple quotes", 
      "print z", 
      "z = '''Hello, Python!''' # Triple quotes can use single quotes as well !", 
      "print z"
     ], 
     "language": "python", 
     "outputs": [
      {
       "output_type": "stream", 
       "stream": "stdout", 
       "text": [
        "Hello, Python!", 
        "Hello, Python!"
       ]
      }
     ], 
     "prompt_number": 6
    }, 
    {
     "cell_type": "markdown", 
     "source": [
      "As you can see, you get the same content in all three cases.  Triple quotes allow entry of multi-line strings.  Double-quote allows single quotes to be used freely inside the string.  Using single quotes likewise allows double-quotes to be used in the string.  Special characters need to be \"escape\"d, as in C."
     ]
    }, 
    {
     "cell_type": "code", 
     "collapsed": false, 
     "input": [
      "quote = '\"And this too, shall pass\"'", 
      "print quote", 
      "quote = \"'And this too, shall pass'\"", 
      "print quote"
     ], 
     "language": "python", 
     "outputs": [
      {
       "output_type": "stream", 
       "stream": "stdout", 
       "text": [
        "\"And this too, shall pass\"", 
        "'And this too, shall pass'"
       ]
      }
     ], 
     "prompt_number": 8
    }, 
    {
     "cell_type": "markdown", 
     "source": [
      "Note that each string is actually a string object. We'll come to that soon."
     ]
    }
   ]
  }
 ]
}