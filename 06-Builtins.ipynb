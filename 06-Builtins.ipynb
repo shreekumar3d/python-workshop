{
 "metadata": {
  "name": "06-Builtins"
 }, 
 "nbformat": 2, 
 "worksheets": [
  {
   "cells": [
    {
     "cell_type": "markdown", 
     "source": [
      "NOTE: need to move this elsewhere. It's hard to provide a good coverage of built-ins in this context."
     ]
    }, 
    {
     "cell_type": "markdown", 
     "source": [
      "Python defines many builtin functions that are usable straightaway. e.g."
     ]
    }, 
    {
     "cell_type": "code", 
     "collapsed": false, 
     "input": [
      "print int(\"10\")", 
      "print hex(10)", 
      "print bin(10)"
     ], 
     "language": "python", 
     "outputs": [
      {
       "output_type": "stream", 
       "stream": "stdout", 
       "text": [
        "10", 
        "0xa", 
        "0b1010"
       ]
      }
     ], 
     "prompt_number": 5
    }, 
    {
     "cell_type": "markdown", 
     "source": [
      "type() is another builtin, it returns the type of the symbol passed to it."
     ]
    }, 
    {
     "cell_type": "markdown", 
     "source": [
      "\"print\" itself is a built-in ! The status of print is rather complicated in python - it's actually not a function! "
     ]
    }
   ]
  }
 ]
}