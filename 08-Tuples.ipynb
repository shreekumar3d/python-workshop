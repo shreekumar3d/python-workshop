{
 "metadata": {
  "name": "08-Tuples"
 }, 
 "nbformat": 2, 
 "worksheets": [
  {
   "cells": [
    {
     "cell_type": "markdown", 
     "source": [
      "Tuples are the same as lists, except they are immutable.  The immutability applies only to the tuple, not to the objects themselves..."
     ]
    }, 
    {
     "cell_type": "code", 
     "collapsed": false, 
     "input": [
      "a = [1]", 
      "x = (a,2,3)", 
      "print x", 
      "a[0] = 5", 
      "print x"
     ], 
     "language": "python", 
     "outputs": [
      {
       "output_type": "stream", 
       "stream": "stdout", 
       "text": [
        "([1], 2, 3)", 
        "([5], 2, 3)"
       ]
      }
     ], 
     "prompt_number": 5
    }
   ]
  }
 ]
}