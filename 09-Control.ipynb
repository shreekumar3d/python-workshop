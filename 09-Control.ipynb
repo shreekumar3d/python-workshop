{
 "metadata": {
  "name": "09-Control"
 }, 
 "nbformat": 2, 
 "worksheets": [
  {
   "cells": [
    {
     "cell_type": "markdown", 
     "source": [
      "Python has \"if\", for loop, and while loop."
     ]
    }, 
    {
     "cell_type": "markdown", 
     "source": [
      "The conditional if statement is generally written as"
     ]
    }, 
    {
     "cell_type": "code", 
     "collapsed": true, 
     "input": [
      "if (expression):", 
      "    stmt1", 
      "    stmt2", 
      "    ...", 
      "    stmtN"
     ], 
     "language": "python", 
     "outputs": []
    }, 
    {
     "cell_type": "markdown", 
     "source": [
      "The expression is followed by one or more statements, indented in some way.  All the statements in the same block must be indented in the same way, else python will get confused. Mixing tabs & spaces will cause confusion, so choose only one. ", 
      "", 
      "If you need an else block, then the usage looks like. This property also makes it difficult to copy-paste python code easily."
     ]
    }, 
    {
     "cell_type": "code", 
     "collapsed": true, 
     "input": [
      "if (expression):", 
      "    stmt1", 
      "    stmt2", 
      "    ...", 
      "    stmtN", 
      "else:", 
      "    stmt1", 
      "    stmt2", 
      "    ...", 
      "    stmtN"
     ], 
     "language": "python", 
     "outputs": []
    }, 
    {
     "cell_type": "markdown", 
     "source": [
      "In python, \"else if\" becomes \"elif\""
     ]
    }, 
    {
     "cell_type": "code", 
     "collapsed": true, 
     "input": [
      "if (expression):", 
      "    stmt1", 
      "    stmt2", 
      "    ..", 
      "elif (expression):", 
      "    stmt1", 
      "    ..."
     ], 
     "language": "python", 
     "outputs": []
    }, 
    {
     "cell_type": "markdown", 
     "source": [
      "If the body of the if needs only one statement, then this can be written as "
     ]
    }, 
    {
     "cell_type": "code", 
     "collapsed": true, 
     "input": [
      "if (expression): stmt"
     ], 
     "language": "python", 
     "outputs": []
    }, 
    {
     "cell_type": "markdown", 
     "source": [
      "The while loop looks like the following. The while loop exits when the expression evaluates to false, of if a \"break\" is encountered."
     ]
    }, 
    {
     "cell_type": "code", 
     "collapsed": true, 
     "input": [
      "while (expression):", 
      "    stmt1", 
      "    stmt2", 
      "    ...", 
      "    stmtN"
     ], 
     "language": "python", 
     "outputs": []
    }, 
    {
     "cell_type": "markdown", 
     "source": [
      "There's also a for loop. This iterates over a sequence of items.  The loop finishes when there are no ore items in the sequence.  The loop can be exited with the \"break\" statement."
     ]
    }, 
    {
     "cell_type": "code", 
     "collapsed": true, 
     "input": [
      "for var in iterable:", 
      "    stmt1", 
      "    stmt2", 
      "    ...", 
      "    stmtN"
     ], 
     "language": "python", 
     "outputs": []
    }
   ]
  }
 ]
}