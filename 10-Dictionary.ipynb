{
 "metadata": {
  "name": "10-Dictionary"
 }, 
 "nbformat": 2, 
 "worksheets": [
  {
   "cells": [
    {
     "cell_type": "markdown", 
     "source": [
      "Dictionary is another important data structure available in python. A dictionary stores key, value pairs. Basically, it implements a data structure known as a hash table. Lists need an index to lookup values.  Dictionaries are different.. With dictionaries, you query a value using a \"key\". The \"key\" can be any immutable value"
     ]
    }, 
    {
     "cell_type": "code", 
     "collapsed": false, 
     "input": [
      "dict = { ", 
      "        \"apple\" : 10,", 
      "        \"orange\" : 20,", 
      "        \"mango\" : 50", 
      "        }", 
      "print dict"
     ], 
     "language": "python", 
     "outputs": [
      {
       "output_type": "stream", 
       "stream": "stdout", 
       "text": [
        "{'orange': 20, 'mango': 50, 'apple': 10}"
       ]
      }
     ], 
     "prompt_number": 2
    }, 
    {
     "cell_type": "code", 
     "collapsed": false, 
     "input": [
      "dict[\"apple\"]"
     ], 
     "language": "python", 
     "outputs": [
      {
       "output_type": "pyout", 
       "prompt_number": 4, 
       "text": [
        "10"
       ]
      }
     ], 
     "prompt_number": 4
    }, 
    {
     "cell_type": "code", 
     "collapsed": false, 
     "input": [
      "dict[\"mango\"]"
     ], 
     "language": "python", 
     "outputs": [
      {
       "output_type": "pyout", 
       "prompt_number": 5, 
       "text": [
        "50"
       ]
      }
     ], 
     "prompt_number": 5
    }, 
    {
     "cell_type": "markdown", 
     "source": [
      "You gen an exception when you try to access a key that is not defined..."
     ]
    }, 
    {
     "cell_type": "code", 
     "collapsed": false, 
     "input": [
      "dict[\"pineapple\"]"
     ], 
     "language": "python", 
     "outputs": [
      {
       "ename": "KeyError", 
       "evalue": "'pineapple'", 
       "output_type": "pyerr", 
       "traceback": [
        "\u001b[0;31m---------------------------------------------------------------------------\u001b[0m\n\u001b[0;31mKeyError\u001b[0m                                  Traceback (most recent call last)", 
        "\u001b[0;32m/home/shkumar/python-workshop/<ipython-input-6-b4305a22d768>\u001b[0m in \u001b[0;36m<module>\u001b[0;34m()\u001b[0m\n\u001b[0;32m----> 1\u001b[0;31m \u001b[0mdict\u001b[0m\u001b[0;34m[\u001b[0m\u001b[0;34m\"pineapple\"\u001b[0m\u001b[0;34m]\u001b[0m\u001b[0;34m\u001b[0m\u001b[0m\n\u001b[0m", 
        "\u001b[0;31mKeyError\u001b[0m: 'pineapple'"
       ]
      }
     ], 
     "prompt_number": 6
    }, 
    {
     "cell_type": "markdown", 
     "source": [
      "Adding a new value for a key is simple. And it's the same as updating an existing value."
     ]
    }, 
    {
     "cell_type": "code", 
     "collapsed": false, 
     "input": [
      "dict[\"pineapple\"] = 25", 
      "dict"
     ], 
     "language": "python", 
     "outputs": [
      {
       "output_type": "pyout", 
       "prompt_number": 7, 
       "text": [
        "{'apple': 10, 'mango': 50, 'orange': 20, 'pineapple': 25}"
       ]
      }
     ], 
     "prompt_number": 7
    }, 
    {
     "cell_type": "markdown", 
     "source": [
      "You can't use a mutable value as a key. The following is OK, as a string is immutable."
     ]
    }, 
    {
     "cell_type": "code", 
     "collapsed": true, 
     "input": [
      "x = \"sapota:", 
      "dict[x] = 100"
     ], 
     "language": "python", 
     "outputs": [], 
     "prompt_number": 8
    }, 
    {
     "cell_type": "markdown", 
     "source": [
      "But the following won't work"
     ]
    }, 
    {
     "cell_type": "code", 
     "collapsed": false, 
     "input": [
      "x = [0]", 
      "dict[x] = 200"
     ], 
     "language": "python", 
     "outputs": [
      {
       "ename": "TypeError", 
       "evalue": "unhashable type: 'list'", 
       "output_type": "pyerr", 
       "traceback": [
        "\u001b[0;31m---------------------------------------------------------------------------\u001b[0m\n\u001b[0;31mTypeError\u001b[0m                                 Traceback (most recent call last)", 
        "\u001b[0;32m/home/shkumar/python-workshop/<ipython-input-9-4151d1bb05a5>\u001b[0m in \u001b[0;36m<module>\u001b[0;34m()\u001b[0m\n\u001b[1;32m      1\u001b[0m \u001b[0mx\u001b[0m \u001b[0;34m=\u001b[0m \u001b[0;34m[\u001b[0m\u001b[0;36m0\u001b[0m\u001b[0;34m]\u001b[0m\u001b[0;34m\u001b[0m\u001b[0m\n\u001b[0;32m----> 2\u001b[0;31m \u001b[0mdict\u001b[0m\u001b[0;34m[\u001b[0m\u001b[0mx\u001b[0m\u001b[0;34m]\u001b[0m \u001b[0;34m=\u001b[0m \u001b[0;36m200\u001b[0m\u001b[0;34m\u001b[0m\u001b[0m\n\u001b[0m", 
        "\u001b[0;31mTypeError\u001b[0m: unhashable type: 'list'"
       ]
      }
     ], 
     "prompt_number": 9
    }, 
    {
     "cell_type": "markdown", 
     "source": [
      "Language note: this is true for in-built types, but not wholely accurate. It is possible to hash immutable values, if the object defines an \\__hash\\__ method! We won't cover this aspect in this workshop!"
     ]
    }, 
    {
     "cell_type": "markdown", 
     "source": [
      "To get all the keys defined in a dictionary, use the keys() method. Likewise, use \"values\" to get the stored values. Note that the list returned by values() does not need to correspond to the key values returned by keys()."
     ]
    }, 
    {
     "cell_type": "code", 
     "collapsed": false, 
     "input": [
      "x = {\"apple\":10, \"mango\":20}", 
      "x.keys()"
     ], 
     "language": "python", 
     "outputs": [
      {
       "output_type": "pyout", 
       "prompt_number": 12, 
       "text": [
        "['mango', 'apple']"
       ]
      }
     ], 
     "prompt_number": 12
    }, 
    {
     "cell_type": "code", 
     "collapsed": false, 
     "input": [
      "x.values()"
     ], 
     "language": "python", 
     "outputs": [
      {
       "output_type": "pyout", 
       "prompt_number": 14, 
       "text": [
        "[20, 10]"
       ]
      }
     ], 
     "prompt_number": 14
    }, 
    {
     "cell_type": "code", 
     "collapsed": false, 
     "input": [
      "dir(x)"
     ], 
     "language": "python", 
     "outputs": [
      {
       "output_type": "pyout", 
       "prompt_number": 13, 
       "text": [
        "['__class__',", 
        " '__cmp__',", 
        " '__contains__',", 
        " '__delattr__',", 
        " '__delitem__',", 
        " '__doc__',", 
        " '__eq__',", 
        " '__format__',", 
        " '__ge__',", 
        " '__getattribute__',", 
        " '__getitem__',", 
        " '__gt__',", 
        " '__hash__',", 
        " '__init__',", 
        " '__iter__',", 
        " '__le__',", 
        " '__len__',", 
        " '__lt__',", 
        " '__ne__',", 
        " '__new__',", 
        " '__reduce__',", 
        " '__reduce_ex__',", 
        " '__repr__',", 
        " '__setattr__',", 
        " '__setitem__',", 
        " '__sizeof__',", 
        " '__str__',", 
        " '__subclasshook__',", 
        " 'clear',", 
        " 'copy',", 
        " 'fromkeys',", 
        " 'get',", 
        " 'has_key',", 
        " 'items',", 
        " 'iteritems',", 
        " 'iterkeys',", 
        " 'itervalues',", 
        " 'keys',", 
        " 'pop',", 
        " 'popitem',", 
        " 'setdefault',", 
        " 'update',", 
        " 'values',", 
        " 'viewitems',", 
        " 'viewkeys',", 
        " 'viewvalues']"
       ]
      }
     ], 
     "prompt_number": 13
    }, 
    {
     "cell_type": "code", 
     "collapsed": true, 
     "input": [
      "To remove "
     ], 
     "language": "python", 
     "outputs": []
    }
   ]
  }
 ]
}