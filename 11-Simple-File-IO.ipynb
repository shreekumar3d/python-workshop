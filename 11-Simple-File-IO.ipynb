{
 "metadata": {
  "name": "11-Simple-File-IO"
 }, 
 "nbformat": 2, 
 "worksheets": [
  {
   "cells": [
    {
     "cell_type": "markdown", 
     "source": [
      "Python makes it very easy to operate on files.  Writing is simple:"
     ]
    }, 
    {
     "cell_type": "code", 
     "collapsed": false, 
     "input": [
      "f = open('blah.txt', 'w') # the returned object is of type \"file\"", 
      "print type(f), f ", 
      "f.write(\"hello\\n\")", 
      "for i in range(1,10):", 
      "    print >>f, \"hello #%d\"%(i)", 
      "f.close()"
     ], 
     "language": "python", 
     "outputs": [
      {
       "output_type": "stream", 
       "stream": "stdout", 
       "text": [
        "<type 'file'> <open file 'blah.txt', mode 'w' at 0x1bd09c0>"
       ]
      }
     ], 
     "prompt_number": 21
    }, 
    {
     "cell_type": "code", 
     "collapsed": false, 
     "input": [
      "f = open('blah.txt', 'r')", 
      "print type(f), f", 
      "data =  f.read()", 
      "print data, type(data)", 
      "f.close()"
     ], 
     "language": "python", 
     "outputs": [
      {
       "output_type": "stream", 
       "stream": "stdout", 
       "text": [
        "<type 'file'> <open file 'blah.txt', mode 'r' at 0x1bd0b70>", 
        "hello", 
        "hello #1", 
        "hello #2", 
        "hello #3", 
        "hello #4", 
        "hello #5", 
        "hello #6", 
        "hello #7", 
        "hello #8", 
        "hello #9", 
        "<type 'str'>"
       ]
      }
     ], 
     "prompt_number": 24
    }, 
    {
     "cell_type": "markdown", 
     "source": [
      "Note that the read() statement returns the entire content of the file.  It does not matter if the file is 1 line long or MBs/GBs in size!"
     ]
    }, 
    {
     "cell_type": "markdown", 
     "source": [
      "readlines() returns a list of all lines in the file. Simple, eh?"
     ]
    }, 
    {
     "cell_type": "code", 
     "collapsed": false, 
     "input": [
      "f = open('blah.txt', 'r')", 
      "i = 1", 
      "for line in f.readlines():", 
      "    print \"#%d: %s\"%(i,line),", 
      "    i+=1", 
      "f.close()"
     ], 
     "language": "python", 
     "outputs": [
      {
       "output_type": "stream", 
       "stream": "stdout", 
       "text": [
        "#1: hello", 
        "#2: hello #1", 
        "#3: hello #2", 
        "#4: hello #3", 
        "#5: hello #4", 
        "#6: hello #5", 
        "#7: hello #6", 
        "#8: hello #7", 
        "#9: hello #8", 
        "#10: hello #9"
       ]
      }
     ], 
     "prompt_number": 23
    }, 
    {
     "cell_type": "markdown", 
     "source": [
      "Exercise : write code that prints the frequency of each word in a file."
     ]
    }
   ]
  }
 ]
}