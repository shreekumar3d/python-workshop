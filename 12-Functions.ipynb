{
 "metadata": {
  "name": "12-Functions"
 }, 
 "nbformat": 2, 
 "worksheets": [
  {
   "cells": [
    {
     "cell_type": "markdown", 
     "source": [
      "Till now, we have used various functions - built-in functions, as well as methods inside objects.", 
      "", 
      "It is time to write our own now.  Functions in python exist for the same reason that they exist in other languages. Functions provide modularity and reduce code duplication. ", 
      "", 
      "A basic function in Python looks like: "
     ]
    }, 
    {
     "cell_type": "code", 
     "collapsed": true, 
     "input": [
      "def fnname(parameter_list):", 
      "    stmt1", 
      "    stmt2", 
      "    ...", 
      "    stmtN"
     ], 
     "language": "python", 
     "outputs": []
    }, 
    {
     "cell_type": "markdown", 
     "source": [
      "Functions may take any number of arguments (including None).  This is specified in the comma separated parameter list.  The \"return\" statement is used to exit the function, and optionally return a value as a result of the function."
     ]
    }, 
    {
     "cell_type": "code", 
     "collapsed": false, 
     "input": [
      "def factorial(n):", 
      "    if n>0:", 
      "        return n*factorial(n-1)", 
      "    return 1", 
      "", 
      "# function usage", 
      "print factorial(5)"
     ], 
     "language": "python", 
     "outputs": [
      {
       "output_type": "stream", 
       "stream": "stdout", 
       "text": [
        "120"
       ]
      }
     ], 
     "prompt_number": 1
    }, 
    {
     "cell_type": "markdown", 
     "source": [
      "Functions can call themselves - called recursion -- like above !"
     ]
    }, 
    {
     "cell_type": "code", 
     "collapsed": false, 
     "input": [
      "def sum2(x, y):", 
      "    return x + y", 
      "", 
      "print sum2(5,6)"
     ], 
     "language": "python", 
     "outputs": [
      {
       "output_type": "stream", 
       "stream": "stdout", 
       "text": [
        "11"
       ]
      }
     ], 
     "prompt_number": 2
    }, 
    {
     "cell_type": "markdown", 
     "source": [
      "Functions can take default arguments:"
     ]
    }, 
    {
     "cell_type": "code", 
     "collapsed": false, 
     "input": [
      "def sum2(x, y=100):", 
      "    return x+y", 
      "", 
      "print sum2(5)"
     ], 
     "language": "python", 
     "outputs": [
      {
       "output_type": "stream", 
       "stream": "stdout", 
       "text": [
        "105"
       ]
      }
     ], 
     "prompt_number": 3
    }
   ]
  }
 ]
}