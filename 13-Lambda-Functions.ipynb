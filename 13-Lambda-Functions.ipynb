{
 "metadata": {
  "name": "13-Lambda-Functions"
 }, 
 "nbformat": 2, 
 "worksheets": [
  {
   "cells": [
    {
     "cell_type": "markdown", 
     "source": [
      "Lambda functions are one line functions!"
     ]
    }, 
    {
     "cell_type": "code", 
     "collapsed": true, 
     "input": [
      "f = lambda x: (x*2)+5"
     ], 
     "language": "python", 
     "outputs": [], 
     "prompt_number": 2
    }, 
    {
     "cell_type": "markdown", 
     "source": [
      "f is now a function takes one argument x, computes (x*2)+5 and returns it"
     ]
    }, 
    {
     "cell_type": "code", 
     "collapsed": false, 
     "input": [
      "print type(f)", 
      "print f(10)"
     ], 
     "language": "python", 
     "outputs": [
      {
       "output_type": "stream", 
       "stream": "stdout", 
       "text": [
        "<type 'function'>", 
        "25"
       ]
      }
     ], 
     "prompt_number": 7
    }, 
    {
     "cell_type": "markdown", 
     "source": [
      "Lamba functions make it possible to write compact code.  As an example, consider the map() builtin function.  This returns the result of applying a function on a sequence.  Using lambda functions, we can quickly substitute small functions.  "
     ]
    }, 
    {
     "cell_type": "code", 
     "collapsed": false, 
     "input": [
      "l = range(5)", 
      "map(lambda x: x*x, l)"
     ], 
     "language": "python", 
     "outputs": [
      {
       "output_type": "pyout", 
       "prompt_number": 10, 
       "text": [
        "[0, 1, 4, 9, 16]"
       ]
      }
     ], 
     "prompt_number": 10
    }, 
    {
     "cell_type": "markdown", 
     "source": [
      "Similarly, there is a filter() function. This evaluates a function on every element of a list.  If the evaluated function returns True, then the element is kept in the result list. Else, it is dropped. ", 
      "", 
      "As an example, Let's find numbers less than 10, whose squared value is more than 9."
     ]
    }, 
    {
     "cell_type": "code", 
     "collapsed": false, 
     "input": [
      "filter(lambda x: x*x>9, range(10))"
     ], 
     "language": "python", 
     "outputs": [
      {
       "output_type": "pyout", 
       "prompt_number": 11, 
       "text": [
        "[4, 5, 6, 7, 8, 9]"
       ]
      }
     ], 
     "prompt_number": 11
    }, 
    {
     "cell_type": "markdown", 
     "source": [
      "The reduce() builtin function applies a binary function from left-to-right, and returns the cumulative result"
     ]
    }, 
    {
     "cell_type": "code", 
     "collapsed": false, 
     "input": [
      "reduce(lambda x,y: x+y, range(10)) # 10*10-1/2 = 45"
     ], 
     "language": "python", 
     "outputs": [
      {
       "output_type": "pyout", 
       "prompt_number": 15, 
       "text": [
        "45"
       ]
      }
     ], 
     "prompt_number": 15
    }, 
    {
     "cell_type": "markdown", 
     "source": [
      "The above expression computes (((((((((0+1)+2)+3)+4)+5+6)+7)+9)"
     ]
    }
   ]
  }
 ]
}